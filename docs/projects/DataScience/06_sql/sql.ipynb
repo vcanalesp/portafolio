{
 "cells": [
  {
   "cell_type": "markdown",
   "id": "81b61a89",
   "metadata": {},
   "source": [
    "<a href=\"https://colab.research.google.com/github/fralfaro/MAT281_2022/blob/main/labs/lab_02/lab_02.ipynb\n",
    "\" target=\"_parent\"><img src=\"https://colab.research.google.com/assets/colab-badge.svg\" alt=\"Open In Colab\"/></a>\n",
    "\n",
    "\n",
    "# SQL\n",
    "\n",
    "\n",
    "\n",
    "En la carpeta data se encuentra el archivo `player_data.csv`, el cual muestra informacion básica de algunos jugadores de la NBA.\n",
    "\n",
    "<img src=\"https://encrypted-tbn0.gstatic.com/images?q=tbn:ANd9GcQHCVR_4gPOmYYGglSV0rT1WlJtgRGnIw6Z6G68PTY1r_Qunv-6C3BDIa3jnStoNvdgcEE&usqp=CAU\" align=\"center\"/>\n",
    "\n"
   ]
  },
  {
   "cell_type": "code",
   "execution_count": 3,
   "id": "58d601b5",
   "metadata": {},
   "outputs": [],
   "source": [
    "from sqlalchemy import create_engine\n",
    "import pandas as pd\n",
    "import os  \n",
    "\n",
    "import warnings\n",
    "warnings.filterwarnings(\"ignore\")"
   ]
  },
  {
   "cell_type": "code",
   "execution_count": 4,
   "id": "3666c9d9",
   "metadata": {},
   "outputs": [
    {
     "data": {
      "text/html": [
       "<div>\n",
       "<style scoped>\n",
       "    .dataframe tbody tr th:only-of-type {\n",
       "        vertical-align: middle;\n",
       "    }\n",
       "\n",
       "    .dataframe tbody tr th {\n",
       "        vertical-align: top;\n",
       "    }\n",
       "\n",
       "    .dataframe thead th {\n",
       "        text-align: right;\n",
       "    }\n",
       "</style>\n",
       "<table border=\"1\" class=\"dataframe\">\n",
       "  <thead>\n",
       "    <tr style=\"text-align: right;\">\n",
       "      <th></th>\n",
       "      <th>name</th>\n",
       "      <th>year_start</th>\n",
       "      <th>year_end</th>\n",
       "      <th>position</th>\n",
       "      <th>height</th>\n",
       "      <th>weight</th>\n",
       "      <th>birth_date</th>\n",
       "      <th>college</th>\n",
       "    </tr>\n",
       "  </thead>\n",
       "  <tbody>\n",
       "    <tr>\n",
       "      <th>0</th>\n",
       "      <td>Alaa Abdelnaby</td>\n",
       "      <td>1991</td>\n",
       "      <td>1995</td>\n",
       "      <td>F-C</td>\n",
       "      <td>6-10</td>\n",
       "      <td>240.0</td>\n",
       "      <td>June 24, 1968</td>\n",
       "      <td>Duke University</td>\n",
       "    </tr>\n",
       "    <tr>\n",
       "      <th>1</th>\n",
       "      <td>Zaid Abdul-Aziz</td>\n",
       "      <td>1969</td>\n",
       "      <td>1978</td>\n",
       "      <td>C-F</td>\n",
       "      <td>6-9</td>\n",
       "      <td>235.0</td>\n",
       "      <td>April 7, 1946</td>\n",
       "      <td>Iowa State University</td>\n",
       "    </tr>\n",
       "    <tr>\n",
       "      <th>2</th>\n",
       "      <td>Kareem Abdul-Jabbar</td>\n",
       "      <td>1970</td>\n",
       "      <td>1989</td>\n",
       "      <td>C</td>\n",
       "      <td>7-2</td>\n",
       "      <td>225.0</td>\n",
       "      <td>April 16, 1947</td>\n",
       "      <td>University of California, Los Angeles</td>\n",
       "    </tr>\n",
       "    <tr>\n",
       "      <th>3</th>\n",
       "      <td>Mahmoud Abdul-Rauf</td>\n",
       "      <td>1991</td>\n",
       "      <td>2001</td>\n",
       "      <td>G</td>\n",
       "      <td>6-1</td>\n",
       "      <td>162.0</td>\n",
       "      <td>March 9, 1969</td>\n",
       "      <td>Louisiana State University</td>\n",
       "    </tr>\n",
       "    <tr>\n",
       "      <th>4</th>\n",
       "      <td>Tariq Abdul-Wahad</td>\n",
       "      <td>1998</td>\n",
       "      <td>2003</td>\n",
       "      <td>F</td>\n",
       "      <td>6-6</td>\n",
       "      <td>223.0</td>\n",
       "      <td>November 3, 1974</td>\n",
       "      <td>San Jose State University</td>\n",
       "    </tr>\n",
       "  </tbody>\n",
       "</table>\n",
       "</div>"
      ],
      "text/plain": [
       "                  name  year_start  year_end position height  weight  \\\n",
       "0       Alaa Abdelnaby        1991      1995      F-C   6-10   240.0   \n",
       "1      Zaid Abdul-Aziz        1969      1978      C-F    6-9   235.0   \n",
       "2  Kareem Abdul-Jabbar        1970      1989        C    7-2   225.0   \n",
       "3   Mahmoud Abdul-Rauf        1991      2001        G    6-1   162.0   \n",
       "4    Tariq Abdul-Wahad        1998      2003        F    6-6   223.0   \n",
       "\n",
       "         birth_date                                college  \n",
       "0     June 24, 1968                        Duke University  \n",
       "1     April 7, 1946                  Iowa State University  \n",
       "2    April 16, 1947  University of California, Los Angeles  \n",
       "3     March 9, 1969             Louisiana State University  \n",
       "4  November 3, 1974              San Jose State University  "
      ]
     },
     "execution_count": 4,
     "metadata": {},
     "output_type": "execute_result"
    }
   ],
   "source": [
    "# load table \n",
    "player_data = pd.read_csv('data/player_data.csv')\n",
    "player_data.head()"
   ]
  },
  {
   "cell_type": "code",
   "execution_count": 5,
   "id": "4e2bf2f0",
   "metadata": {},
   "outputs": [],
   "source": [
    "# create sqlite engine\n",
    "engine = create_engine('sqlite:///nba.db', echo=True)\n",
    "# create connection to engine\n",
    "conn = engine.connect()"
   ]
  },
  {
   "cell_type": "code",
   "execution_count": 9,
   "id": "d39e9950",
   "metadata": {},
   "outputs": [
    {
     "name": "stdout",
     "output_type": "stream",
     "text": [
      "2022-10-04 08:54:12,112 INFO sqlalchemy.engine.Engine PRAGMA main.table_info(\"player\")\n",
      "2022-10-04 08:54:12,113 INFO sqlalchemy.engine.Engine [raw sql] ()\n",
      "2022-10-04 08:54:12,115 INFO sqlalchemy.engine.Engine PRAGMA temp.table_info(\"player\")\n",
      "2022-10-04 08:54:12,115 INFO sqlalchemy.engine.Engine [raw sql] ()\n",
      "2022-10-04 08:54:12,116 INFO sqlalchemy.engine.Engine \n",
      "CREATE TABLE player (\n",
      "\t\"index\" BIGINT, \n",
      "\tname TEXT, \n",
      "\tyear_start BIGINT, \n",
      "\tyear_end BIGINT, \n",
      "\tposition TEXT, \n",
      "\theight TEXT, \n",
      "\tweight FLOAT, \n",
      "\tbirth_date TEXT, \n",
      "\tcollege TEXT\n",
      ")\n",
      "\n",
      "\n",
      "2022-10-04 08:54:12,117 INFO sqlalchemy.engine.Engine [no key 0.00072s] ()\n",
      "2022-10-04 08:54:12,120 INFO sqlalchemy.engine.Engine COMMIT\n",
      "2022-10-04 08:54:12,120 INFO sqlalchemy.engine.Engine CREATE INDEX ix_player_index ON player (\"index\")\n",
      "2022-10-04 08:54:12,121 INFO sqlalchemy.engine.Engine [no key 0.00044s] ()\n",
      "2022-10-04 08:54:12,123 INFO sqlalchemy.engine.Engine COMMIT\n",
      "2022-10-04 08:54:12,142 INFO sqlalchemy.engine.Engine INSERT INTO player (\"index\", name, year_start, year_end, position, height, weight, birth_date, college) VALUES (?, ?, ?, ?, ?, ?, ?, ?, ?)\n",
      "2022-10-04 08:54:12,143 INFO sqlalchemy.engine.Engine [generated in 0.01158s] ((0, 'Alaa Abdelnaby', 1991, 1995, 'F-C', '6-10', 240.0, 'June 24, 1968', 'Duke University'), (1, 'Zaid Abdul-Aziz', 1969, 1978, 'C-F', '6-9', 235.0, 'April 7, 1946', 'Iowa State University'), (2, 'Kareem Abdul-Jabbar', 1970, 1989, 'C', '7-2', 225.0, 'April 16, 1947', 'University of California, Los Angeles'), (3, 'Mahmoud Abdul-Rauf', 1991, 2001, 'G', '6-1', 162.0, 'March 9, 1969', 'Louisiana State University'), (4, 'Tariq Abdul-Wahad', 1998, 2003, 'F', '6-6', 223.0, 'November 3, 1974', 'San Jose State University'), (5, 'Shareef Abdur-Rahim', 1997, 2008, 'F', '6-9', 225.0, 'December 11, 1976', 'University of California'), (6, 'Tom Abernethy', 1977, 1981, 'F', '6-7', 220.0, 'May 6, 1954', 'Indiana University'), (7, 'Forest Able', 1957, 1957, 'G', '6-3', 180.0, 'July 27, 1932', 'Western Kentucky University')  ... displaying 10 of 4550 total bound parameter sets ...  (4548, 'Ivica Zubac', 2017, 2018, 'C', '7-1', 265.0, 'March 18, 1997', None), (4549, 'Matt Zunic', 1949, 1949, 'G-F', '6-3', 195.0, 'December 19, 1919', 'George Washington University'))\n",
      "2022-10-04 08:54:12,151 INFO sqlalchemy.engine.Engine COMMIT\n"
     ]
    },
    {
     "data": {
      "text/plain": [
       "4550"
      ]
     },
     "execution_count": 9,
     "metadata": {},
     "output_type": "execute_result"
    }
   ],
   "source": [
    "# add the dataframe as a table in sqlite\n",
    "sqlite_table = \"player\"\n",
    "player_data.to_sql(sqlite_table, conn, if_exists='fail')"
   ]
  },
  {
   "cell_type": "code",
   "execution_count": 10,
   "id": "365a4032",
   "metadata": {},
   "outputs": [],
   "source": [
    "# funcion de consultas\n",
    "def consulta(query,conn):\n",
    "    return pd.read_sql_query(query, con=conn)"
   ]
  },
  {
   "cell_type": "code",
   "execution_count": 13,
   "id": "72713ae7",
   "metadata": {},
   "outputs": [
    {
     "name": "stdout",
     "output_type": "stream",
     "text": [
      "2022-10-04 08:54:26,278 INFO sqlalchemy.engine.Engine \n",
      "SELECT * FROM player\n",
      "\n",
      "2022-10-04 08:54:26,279 INFO sqlalchemy.engine.Engine [raw sql] ()\n"
     ]
    },
    {
     "data": {
      "text/html": [
       "<div>\n",
       "<style scoped>\n",
       "    .dataframe tbody tr th:only-of-type {\n",
       "        vertical-align: middle;\n",
       "    }\n",
       "\n",
       "    .dataframe tbody tr th {\n",
       "        vertical-align: top;\n",
       "    }\n",
       "\n",
       "    .dataframe thead th {\n",
       "        text-align: right;\n",
       "    }\n",
       "</style>\n",
       "<table border=\"1\" class=\"dataframe\">\n",
       "  <thead>\n",
       "    <tr style=\"text-align: right;\">\n",
       "      <th></th>\n",
       "      <th>index</th>\n",
       "      <th>name</th>\n",
       "      <th>year_start</th>\n",
       "      <th>year_end</th>\n",
       "      <th>position</th>\n",
       "      <th>height</th>\n",
       "      <th>weight</th>\n",
       "      <th>birth_date</th>\n",
       "      <th>college</th>\n",
       "    </tr>\n",
       "  </thead>\n",
       "  <tbody>\n",
       "    <tr>\n",
       "      <th>0</th>\n",
       "      <td>0</td>\n",
       "      <td>Alaa Abdelnaby</td>\n",
       "      <td>1991</td>\n",
       "      <td>1995</td>\n",
       "      <td>F-C</td>\n",
       "      <td>6-10</td>\n",
       "      <td>240.0</td>\n",
       "      <td>June 24, 1968</td>\n",
       "      <td>Duke University</td>\n",
       "    </tr>\n",
       "    <tr>\n",
       "      <th>1</th>\n",
       "      <td>1</td>\n",
       "      <td>Zaid Abdul-Aziz</td>\n",
       "      <td>1969</td>\n",
       "      <td>1978</td>\n",
       "      <td>C-F</td>\n",
       "      <td>6-9</td>\n",
       "      <td>235.0</td>\n",
       "      <td>April 7, 1946</td>\n",
       "      <td>Iowa State University</td>\n",
       "    </tr>\n",
       "    <tr>\n",
       "      <th>2</th>\n",
       "      <td>2</td>\n",
       "      <td>Kareem Abdul-Jabbar</td>\n",
       "      <td>1970</td>\n",
       "      <td>1989</td>\n",
       "      <td>C</td>\n",
       "      <td>7-2</td>\n",
       "      <td>225.0</td>\n",
       "      <td>April 16, 1947</td>\n",
       "      <td>University of California, Los Angeles</td>\n",
       "    </tr>\n",
       "    <tr>\n",
       "      <th>3</th>\n",
       "      <td>3</td>\n",
       "      <td>Mahmoud Abdul-Rauf</td>\n",
       "      <td>1991</td>\n",
       "      <td>2001</td>\n",
       "      <td>G</td>\n",
       "      <td>6-1</td>\n",
       "      <td>162.0</td>\n",
       "      <td>March 9, 1969</td>\n",
       "      <td>Louisiana State University</td>\n",
       "    </tr>\n",
       "    <tr>\n",
       "      <th>4</th>\n",
       "      <td>4</td>\n",
       "      <td>Tariq Abdul-Wahad</td>\n",
       "      <td>1998</td>\n",
       "      <td>2003</td>\n",
       "      <td>F</td>\n",
       "      <td>6-6</td>\n",
       "      <td>223.0</td>\n",
       "      <td>November 3, 1974</td>\n",
       "      <td>San Jose State University</td>\n",
       "    </tr>\n",
       "    <tr>\n",
       "      <th>...</th>\n",
       "      <td>...</td>\n",
       "      <td>...</td>\n",
       "      <td>...</td>\n",
       "      <td>...</td>\n",
       "      <td>...</td>\n",
       "      <td>...</td>\n",
       "      <td>...</td>\n",
       "      <td>...</td>\n",
       "      <td>...</td>\n",
       "    </tr>\n",
       "    <tr>\n",
       "      <th>4545</th>\n",
       "      <td>4545</td>\n",
       "      <td>Ante Zizic</td>\n",
       "      <td>2018</td>\n",
       "      <td>2018</td>\n",
       "      <td>F-C</td>\n",
       "      <td>6-11</td>\n",
       "      <td>250.0</td>\n",
       "      <td>January 4, 1997</td>\n",
       "      <td>None</td>\n",
       "    </tr>\n",
       "    <tr>\n",
       "      <th>4546</th>\n",
       "      <td>4546</td>\n",
       "      <td>Jim Zoet</td>\n",
       "      <td>1983</td>\n",
       "      <td>1983</td>\n",
       "      <td>C</td>\n",
       "      <td>7-1</td>\n",
       "      <td>240.0</td>\n",
       "      <td>December 20, 1953</td>\n",
       "      <td>Kent State University</td>\n",
       "    </tr>\n",
       "    <tr>\n",
       "      <th>4547</th>\n",
       "      <td>4547</td>\n",
       "      <td>Bill Zopf</td>\n",
       "      <td>1971</td>\n",
       "      <td>1971</td>\n",
       "      <td>G</td>\n",
       "      <td>6-1</td>\n",
       "      <td>170.0</td>\n",
       "      <td>June 7, 1948</td>\n",
       "      <td>Duquesne University</td>\n",
       "    </tr>\n",
       "    <tr>\n",
       "      <th>4548</th>\n",
       "      <td>4548</td>\n",
       "      <td>Ivica Zubac</td>\n",
       "      <td>2017</td>\n",
       "      <td>2018</td>\n",
       "      <td>C</td>\n",
       "      <td>7-1</td>\n",
       "      <td>265.0</td>\n",
       "      <td>March 18, 1997</td>\n",
       "      <td>None</td>\n",
       "    </tr>\n",
       "    <tr>\n",
       "      <th>4549</th>\n",
       "      <td>4549</td>\n",
       "      <td>Matt Zunic</td>\n",
       "      <td>1949</td>\n",
       "      <td>1949</td>\n",
       "      <td>G-F</td>\n",
       "      <td>6-3</td>\n",
       "      <td>195.0</td>\n",
       "      <td>December 19, 1919</td>\n",
       "      <td>George Washington University</td>\n",
       "    </tr>\n",
       "  </tbody>\n",
       "</table>\n",
       "<p>4550 rows × 9 columns</p>\n",
       "</div>"
      ],
      "text/plain": [
       "      index                 name  year_start  year_end position height  \\\n",
       "0         0       Alaa Abdelnaby        1991      1995      F-C   6-10   \n",
       "1         1      Zaid Abdul-Aziz        1969      1978      C-F    6-9   \n",
       "2         2  Kareem Abdul-Jabbar        1970      1989        C    7-2   \n",
       "3         3   Mahmoud Abdul-Rauf        1991      2001        G    6-1   \n",
       "4         4    Tariq Abdul-Wahad        1998      2003        F    6-6   \n",
       "...     ...                  ...         ...       ...      ...    ...   \n",
       "4545   4545           Ante Zizic        2018      2018      F-C   6-11   \n",
       "4546   4546             Jim Zoet        1983      1983        C    7-1   \n",
       "4547   4547            Bill Zopf        1971      1971        G    6-1   \n",
       "4548   4548          Ivica Zubac        2017      2018        C    7-1   \n",
       "4549   4549           Matt Zunic        1949      1949      G-F    6-3   \n",
       "\n",
       "      weight         birth_date                                college  \n",
       "0      240.0      June 24, 1968                        Duke University  \n",
       "1      235.0      April 7, 1946                  Iowa State University  \n",
       "2      225.0     April 16, 1947  University of California, Los Angeles  \n",
       "3      162.0      March 9, 1969             Louisiana State University  \n",
       "4      223.0   November 3, 1974              San Jose State University  \n",
       "...      ...                ...                                    ...  \n",
       "4545   250.0    January 4, 1997                                   None  \n",
       "4546   240.0  December 20, 1953                  Kent State University  \n",
       "4547   170.0       June 7, 1948                    Duquesne University  \n",
       "4548   265.0     March 18, 1997                                   None  \n",
       "4549   195.0  December 19, 1919           George Washington University  \n",
       "\n",
       "[4550 rows x 9 columns]"
      ]
     },
     "execution_count": 13,
     "metadata": {},
     "output_type": "execute_result"
    }
   ],
   "source": [
    "# ejemplo\n",
    "query = \"\"\"\n",
    "SELECT * FROM player\n",
    "\"\"\"\n",
    "df = consulta(query,conn)\n",
    "df"
   ]
  },
  {
   "cell_type": "markdown",
   "id": "38de6a78",
   "metadata": {},
   "source": [
    "El objetivo es tratar de obtener la mayor información posible de este conjunto de datos mediante código **SQL**. Para cumplir con este objetivo debe resolver las siguientes problemáticas:"
   ]
  },
  {
   "cell_type": "markdown",
   "id": "812cf6a8",
   "metadata": {},
   "source": [
    "1. Mostrar las primeras 5 filas"
   ]
  },
  {
   "cell_type": "code",
   "execution_count": null,
   "id": "c8b3cd26",
   "metadata": {},
   "outputs": [],
   "source": [
    "query = \"\"\"\n",
    "SELECT * FROM player\n",
    "LIMIT 5\n",
    "\"\"\"\n",
    "consulta(query,conn)"
   ]
  },
  {
   "cell_type": "markdown",
   "id": "ae01f307",
   "metadata": {},
   "source": [
    "2. Seleccionar los valores únicos de la columna `position`."
   ]
  },
  {
   "cell_type": "code",
   "execution_count": null,
   "id": "49d4489f",
   "metadata": {},
   "outputs": [],
   "source": []
  },
  {
   "cell_type": "markdown",
   "id": "a02be4e8",
   "metadata": {},
   "source": [
    "3. Seleccionar y cambiar el nombre de la columna `name` por `nombre` "
   ]
  },
  {
   "cell_type": "code",
   "execution_count": null,
   "id": "e216f960",
   "metadata": {},
   "outputs": [],
   "source": []
  },
  {
   "cell_type": "markdown",
   "id": "3ca0bc6c",
   "metadata": {},
   "source": [
    "4. Determinar el tiempo (en años) de cada jugador en su posición"
   ]
  },
  {
   "cell_type": "code",
   "execution_count": null,
   "id": "aff47b1d",
   "metadata": {},
   "outputs": [],
   "source": []
  },
  {
   "cell_type": "markdown",
   "id": "5b17f546",
   "metadata": {},
   "source": [
    "5. Encontrar el valor máximo de la columna `weight` por cada  valor de la columna `position`"
   ]
  },
  {
   "cell_type": "code",
   "execution_count": null,
   "id": "2ec77cc4",
   "metadata": {},
   "outputs": [],
   "source": []
  },
  {
   "cell_type": "markdown",
   "id": "a03635b9",
   "metadata": {},
   "source": [
    "6. Encontrar el total de jugadores por cada valor de la columna `year_start`"
   ]
  },
  {
   "cell_type": "code",
   "execution_count": null,
   "id": "bcc9b171",
   "metadata": {},
   "outputs": [],
   "source": []
  },
  {
   "cell_type": "markdown",
   "id": "44466154",
   "metadata": {},
   "source": [
    "7. Encontrar el valor mínimo, máximo y promedio de la columna `weight` por cada valor de la columnas `college`"
   ]
  },
  {
   "cell_type": "code",
   "execution_count": null,
   "id": "babedc9a",
   "metadata": {},
   "outputs": [],
   "source": []
  },
  {
   "cell_type": "markdown",
   "id": "c57cb703",
   "metadata": {},
   "source": [
    "8. Filtrar por aquellos jugadores que cumplan con :\n",
    "* Para la columna `year_start` tienen un valor mayor 1990 y menor a 2000\n",
    "* Para la columna `position` tienen un valor de `C`,`C-F` o `F-C`\n",
    "* Para la columna `college` tienen un valor distinto de `Duke University`\n"
   ]
  },
  {
   "cell_type": "code",
   "execution_count": null,
   "id": "5bc633c7",
   "metadata": {},
   "outputs": [],
   "source": []
  },
  {
   "cell_type": "markdown",
   "id": "d0893605",
   "metadata": {},
   "source": [
    "9. Crear dos conjuntos de datos y juntarlos en una misma *query*. Las condiciones de cada uno de los cojunto de datos son:\n",
    "\n",
    "* **df1**:\n",
    "    * Para la columna `year_start` tienen un valor mayor 1990 y menor a 2000\n",
    "    * Para la columna `position` tienen un valor de `C`,`C-F` o `F-C`\n",
    "   \n",
    "* **df2**:\n",
    "    * Para la columna `year_end` tienen un valor menor a 2000\n",
    "    * Para la columna `position` tienen un valor de `G`o `F` "
   ]
  }
 ],
 "metadata": {
  "kernelspec": {
   "display_name": "Python 3",
   "language": "python",
   "name": "python3"
  },
  "language_info": {
   "codemirror_mode": {
    "name": "ipython",
    "version": 3
   },
   "file_extension": ".py",
   "mimetype": "text/x-python",
   "name": "python",
   "nbconvert_exporter": "python",
   "pygments_lexer": "ipython3",
   "version": "3.8.10"
  }
 },
 "nbformat": 4,
 "nbformat_minor": 5
}
